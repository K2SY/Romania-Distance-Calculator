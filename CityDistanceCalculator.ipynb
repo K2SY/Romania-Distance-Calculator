{
  "nbformat": 4,
  "nbformat_minor": 0,
  "metadata": {
    "colab": {
      "provenance": []
    },
    "kernelspec": {
      "name": "python3",
      "display_name": "Python 3"
    },
    "language_info": {
      "name": "python"
    }
  },
  "cells": [
    {
      "cell_type": "code",
      "execution_count": null,
      "metadata": {
        "colab": {
          "base_uri": "https://localhost:8080/"
        },
        "id": "tlP3U6Um5VDD",
        "outputId": "76c10fa9-5af9-4578-ef98-61b5efbe70f5"
      },
      "outputs": [
        {
          "output_type": "stream",
          "name": "stdout",
          "text": [
            "Enter origin city: Arad\n",
            "Enter the destination city: Urziceni\n",
            "start:[{origin_city}, 0]\n",
            "Iteration1: { [Arad->Zerind, 75],[Arad->Sibiu, 140],[Arad->Timisoara, 118]}\n",
            "Iteration2: { [Arad->Zerind->Oradea, 146]}\n",
            "Iteration3: { [Arad->Timisoara->Lugoj, 229]}\n",
            "Iteration4: { [Arad->Sibiu->Oradea, 291],[Arad->Sibiu->Rimnicu Vilcea, 220],[Arad->Sibiu->Fagaras, 239]}\n",
            "Iteration5: no new paths added, 146\n",
            "Iteration6: { [Arad->Sibiu->Rimnicu Vilcea->Craiova, 366],[Arad->Sibiu->Rimnicu Vilcea->Pitesti, 317]}\n",
            "Iteration7: { [Arad->Timisoara->Lugoj->Mehadia, 299]}\n",
            "Iteration8: { [Arad->Sibiu->Fagaras->Bucharest, 450]}\n",
            "Iteration9: { [Arad->Timisoara->Lugoj->Mehadia->Drobeta, 374]}\n",
            "Iteration10: { [Arad->Sibiu->Rimnicu Vilcea->Pitesti->Craiova, 455],[Arad->Sibiu->Rimnicu Vilcea->Pitesti->Bucharest, 418]}\n",
            "Iteration11: { [Arad->Sibiu->Rimnicu Vilcea->Craiova->Drobeta, 486]}\n",
            "Iteration12: no new paths added, 374\n",
            "Iteration13: { [Arad->Sibiu->Rimnicu Vilcea->Pitesti->Bucharest->Giurgiu, 508],[Arad->Sibiu->Rimnicu Vilcea->Pitesti->Bucharest->Urziceni, 503]}\n",
            "\n",
            "Final Iteration: Arad->Sibiu->Rimnicu Vilcea->Pitesti->Bucharest->Urziceni\n",
            "Cost: Arad to Urziceni is 503\n"
          ]
        }
      ],
      "source": [
        "from ast import main\n",
        "import heapq\n",
        "from queue import PriorityQueue\n",
        "\n",
        "# Road map of Romania\n",
        "# Data structure that list cities and each neighboring city connecting to it with is respective distance\n",
        "def load_map():\n",
        "  return{\n",
        "      #city: { connecting city: Distance }\n",
        "      'Arad': {'Zerind': 75, 'Sibiu': 140, 'Timisoara': 118},\n",
        "      'Zerind': {'Arad': 75, 'Oradea': 71},\n",
        "      'Oradea': {'Zerind': 71, 'Sibiu': 151},\n",
        "      'Timisoara': {'Lugoj': 111, 'Arad': 118},\n",
        "      'Lugoj': {'Timisoara': 111, 'Mehadia': 70},\n",
        "      'Mehadia': {'Lugoj': 70, 'Drobeta': 75},\n",
        "      'Drobeta': {'Mehadia': 75, 'Craiova': 120},\n",
        "      'Craiova': {'Rimnicu Vilcea': 146, 'Pitesti': 138, 'Drobeta': 120},\n",
        "      'Rimnicu Vilcea': {'Sibiu': 80, 'Craiova': 146, 'Pitesti': 97},\n",
        "      'Sibiu': {'Arad': 140, 'Oradea': 151, 'Rimnicu Vilcea': 80, 'Fagaras': 99},\n",
        "      'Fagaras': {'Sibiu': 99, 'Bucharest': 211},\n",
        "      'Pitesti': {'Rimnicu Vilcea': 97, 'Craiova': 138, 'Bucharest': 101},\n",
        "      'Bucharest': {'Fagaras': 211, 'Pitesti': 101, 'Giurgiu': 90, 'Urziceni': 85},\n",
        "      'Giurgiu': {'Bucharest': 90},\n",
        "      'Urziceni': {'Bucharest': 85, 'Hirsova': 98, 'Vaslui': 142},\n",
        "      'Hirsova': {'Urziceni': 98, 'Eforie': 86},\n",
        "      'Eforie': {'Hirsova': 86},\n",
        "      'Vaslui': {'Urziceni': 142, 'Iasi': 92},\n",
        "      'Iasi': {'Vaslui': 92, 'Neamt': 87},\n",
        "      'Neamt': {'Iasi': 87}\n",
        "  }\n",
        "\n",
        "def cost_search(romania_map, origin_city, destination_city):\n",
        "  queue = []\n",
        "  heapq.heappush(queue, (0, origin_city, []))\n",
        "  visted_cities = set()\n",
        "  count = 0\n",
        "\n",
        "  print(\"start:[{origin_city}, 0]\")\n",
        "\n",
        "\n",
        "  while queue:\n",
        "    cost, current_city, path_taken = heapq.heappop(queue)\n",
        "    if current_city == destination_city:\n",
        "      print(f\"\\nFinal Iteration: {'->'.join(path_taken + [destination_city])}\")\n",
        "      print(f\"Cost: {origin_city} to {destination_city} is {cost}\")\n",
        "      return\n",
        "\n",
        "    if current_city in visted_cities:\n",
        "      continue\n",
        "    visted_cities.add(current_city)\n",
        "\n",
        "    next_state = []\n",
        "\n",
        "    for next_closest_city, travel_cost in romania_map[current_city].items():\n",
        "      if next_closest_city not in visted_cities:\n",
        "        new_path = path_taken + [current_city]\n",
        "        next_cost = cost + travel_cost\n",
        "        heapq.heappush(queue, (next_cost, next_closest_city, new_path))\n",
        "        next_state.append(f\"[{'->'.join(new_path + [next_closest_city])}, {next_cost}]\")\n",
        "\n",
        "    count = count + 1\n",
        "    if next_state:\n",
        "      print(f\"Iteration{count}: {{ {','.join(next_state)}}}\")\n",
        "    else:\n",
        "      print(f\"Iteration{count}: no new paths added, {cost}\")\n",
        "\n",
        "  print(\"No path found\")\n",
        "\n",
        "def main():\n",
        "\n",
        "  map = load_map()\n",
        "  origin_city = input(\"Enter origin city: \")\n",
        "  destination_city = input(\"Enter the destination city: \")\n",
        "\n",
        "  if origin_city not in map or destination_city not in map:\n",
        "    print(\"Invalid city\")\n",
        "    return\n",
        "\n",
        "  cost_search(map, origin_city, destination_city)\n",
        "\n",
        "\n",
        "\n",
        "if __name__ == \"__main__\":\n",
        "  main()"
      ]
    },
    {
      "cell_type": "code",
      "source": [],
      "metadata": {
        "id": "u4ALoDlS2gbC"
      },
      "execution_count": null,
      "outputs": []
    }
  ]
}